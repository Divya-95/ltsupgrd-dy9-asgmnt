{
  "nbformat": 4,
  "nbformat_minor": 0,
  "metadata": {
    "colab": {
      "name": "ltsupgrd dy9 assgmnt",
      "provenance": [],
      "collapsed_sections": [],
      "authorship_tag": "ABX9TyNcmDBCxx/TwFRdYiDhVy9U",
      "include_colab_link": true
    },
    "kernelspec": {
      "name": "python3",
      "display_name": "Python 3"
    }
  },
  "cells": [
    {
      "cell_type": "markdown",
      "metadata": {
        "id": "view-in-github",
        "colab_type": "text"
      },
      "source": [
        "<a href=\"https://colab.research.google.com/github/Divya-95/ltsupgrd-dy9-asgmnt/blob/master/ltsupgrd_dy9_assgmnt.ipynb\" target=\"_parent\"><img src=\"https://colab.research.google.com/assets/colab-badge.svg\" alt=\"Open In Colab\"/></a>"
      ]
    },
    {
      "cell_type": "code",
      "metadata": {
        "id": "HiiXuKHFJYpB",
        "colab_type": "code",
        "colab": {
          "base_uri": "https://localhost:8080/",
          "height": 419
        },
        "outputId": "459b9c0a-d51e-45e7-dc56-8e6025068a02"
      },
      "source": [
        " # downloading pylint\n",
        " \n",
        "! pip install pylint"
      ],
      "execution_count": 1,
      "outputs": [
        {
          "output_type": "stream",
          "text": [
            "Collecting pylint\n",
            "\u001b[?25l  Downloading https://files.pythonhosted.org/packages/fb/13/519c1264a134beab2be4bac8dd3e64948980a5ca7833b31cf0255b21f20a/pylint-2.6.0-py3-none-any.whl (325kB)\n",
            "\u001b[K     |████████████████████████████████| 327kB 3.4MB/s \n",
            "\u001b[?25hCollecting isort<6,>=4.2.5\n",
            "\u001b[?25l  Downloading https://files.pythonhosted.org/packages/d1/25/7ed95ccb07d3ce52598f5a57d002da6a18074ea8749991b10936cc20e539/isort-5.5.2-py3-none-any.whl (95kB)\n",
            "\u001b[K     |████████████████████████████████| 102kB 9.6MB/s \n",
            "\u001b[?25hCollecting mccabe<0.7,>=0.6\n",
            "  Downloading https://files.pythonhosted.org/packages/87/89/479dc97e18549e21354893e4ee4ef36db1d237534982482c3681ee6e7b57/mccabe-0.6.1-py2.py3-none-any.whl\n",
            "Requirement already satisfied: toml>=0.7.1 in /usr/local/lib/python3.6/dist-packages (from pylint) (0.10.1)\n",
            "Collecting astroid<=2.5,>=2.4.0\n",
            "\u001b[?25l  Downloading https://files.pythonhosted.org/packages/24/a8/5133f51967fb21e46ee50831c3f5dda49e976b7f915408d670b1603d41d6/astroid-2.4.2-py3-none-any.whl (213kB)\n",
            "\u001b[K     |████████████████████████████████| 215kB 44.8MB/s \n",
            "\u001b[?25hRequirement already satisfied: six~=1.12 in /usr/local/lib/python3.6/dist-packages (from astroid<=2.5,>=2.4.0->pylint) (1.15.0)\n",
            "Requirement already satisfied: wrapt~=1.11 in /usr/local/lib/python3.6/dist-packages (from astroid<=2.5,>=2.4.0->pylint) (1.12.1)\n",
            "Collecting lazy-object-proxy==1.4.*\n",
            "\u001b[?25l  Downloading https://files.pythonhosted.org/packages/0b/dd/b1e3407e9e6913cf178e506cd0dee818e58694d9a5cd1984e3f6a8b9a10f/lazy_object_proxy-1.4.3-cp36-cp36m-manylinux1_x86_64.whl (55kB)\n",
            "\u001b[K     |████████████████████████████████| 61kB 6.9MB/s \n",
            "\u001b[?25hCollecting typed-ast<1.5,>=1.4.0; implementation_name == \"cpython\" and python_version < \"3.8\"\n",
            "\u001b[?25l  Downloading https://files.pythonhosted.org/packages/90/ed/5459080d95eb87a02fe860d447197be63b6e2b5e9ff73c2b0a85622994f4/typed_ast-1.4.1-cp36-cp36m-manylinux1_x86_64.whl (737kB)\n",
            "\u001b[K     |████████████████████████████████| 747kB 43.7MB/s \n",
            "\u001b[?25hInstalling collected packages: isort, mccabe, lazy-object-proxy, typed-ast, astroid, pylint\n",
            "Successfully installed astroid-2.4.2 isort-5.5.2 lazy-object-proxy-1.4.3 mccabe-0.6.1 pylint-2.6.0 typed-ast-1.4.1\n"
          ],
          "name": "stdout"
        }
      ]
    },
    {
      "cell_type": "code",
      "metadata": {
        "id": "dTfMpftwJxWl",
        "colab_type": "code",
        "colab": {
          "base_uri": "https://localhost:8080/",
          "height": 35
        },
        "outputId": "9b66e1dd-3cc1-4687-fcd7-38be0acf4cc6"
      },
      "source": [
        " %%writefile prime.py\n",
        " \n",
        "'''\n",
        "Creating a python file for finding whethere the given number is prime number or not.\n",
        "'''\n",
        " \n",
        "def is_prime(given_no):\n",
        "    '''\n",
        "    function to check for prime number.\n",
        "    '''\n",
        "    if given_no >= 1:\n",
        "        for i in range(2, given_no):\n",
        "            if (given_no % i) == 0:\n",
        "                final_result=\"Not Prime\"\n",
        "            else:\n",
        "                final_result=\"Prime\"\n",
        "    else:\n",
        "        final_result=\"Not Prime\"\n",
        "    return final_result"
      ],
      "execution_count": 2,
      "outputs": [
        {
          "output_type": "stream",
          "text": [
            "Writing prime.py\n"
          ],
          "name": "stdout"
        }
      ]
    },
    {
      "cell_type": "code",
      "metadata": {
        "id": "HvM19HHUJ8H9",
        "colab_type": "code",
        "colab": {
          "base_uri": "https://localhost:8080/",
          "height": 315
        },
        "outputId": "7b6563da-cb8f-448f-9131-7eea1b82592f"
      },
      "source": [
        " ! pylint \"prime.py\""
      ],
      "execution_count": 3,
      "outputs": [
        {
          "output_type": "stream",
          "text": [
            "************* Module prime\n",
            "prime.py:7:0: W0311: Bad indentation. Found 3 spaces, expected 4 (bad-indentation)\n",
            "prime.py:10:0: W0311: Bad indentation. Found 3 spaces, expected 4 (bad-indentation)\n",
            "prime.py:11:0: W0311: Bad indentation. Found 7 spaces, expected 8 (bad-indentation)\n",
            "prime.py:12:0: W0311: Bad indentation. Found 11 spaces, expected 12 (bad-indentation)\n",
            "prime.py:13:0: W0311: Bad indentation. Found 15 spaces, expected 16 (bad-indentation)\n",
            "prime.py:14:0: W0311: Bad indentation. Found 11 spaces, expected 12 (bad-indentation)\n",
            "prime.py:15:0: W0311: Bad indentation. Found 15 spaces, expected 16 (bad-indentation)\n",
            "prime.py:16:0: W0311: Bad indentation. Found 3 spaces, expected 4 (bad-indentation)\n",
            "prime.py:17:0: W0311: Bad indentation. Found 7 spaces, expected 8 (bad-indentation)\n",
            "prime.py:18:0: C0304: Final newline missing (missing-final-newline)\n",
            "prime.py:18:0: W0311: Bad indentation. Found 3 spaces, expected 4 (bad-indentation)\n",
            "\n",
            "------------------------------------\n",
            "Your code has been rated at -3.75/10\n",
            "\n"
          ],
          "name": "stdout"
        }
      ]
    },
    {
      "cell_type": "code",
      "metadata": {
        "id": "EWnSkPSGKTp0",
        "colab_type": "code",
        "colab": {
          "base_uri": "https://localhost:8080/",
          "height": 35
        },
        "outputId": "ab656bd0-dc17-4ce1-e251-bd7eb9c6cf02"
      },
      "source": [
        " %%writefile primeUnitTest.py\n",
        " \n",
        "import unittest\n",
        "import prime\n",
        " \n",
        "class testPrime(unittest.TestCase):\n",
        "    def testSinglePrime(self):\n",
        "        a = 3\n",
        "        result = prime.is_prime(a)\n",
        "        self.assertEquals(result, \"Prime\")\n",
        "        \n",
        "    def testingDoublePrime(self):\n",
        "        b = 11 \n",
        "        result = prime.is_prime(b)\n",
        "        self.assertEquals(result, \"Prime\")\n",
        " \n",
        "if __name__ == \"__main__\":\n",
        "    unittest.main()"
      ],
      "execution_count": 4,
      "outputs": [
        {
          "output_type": "stream",
          "text": [
            "Writing primeUnitTest.py\n"
          ],
          "name": "stdout"
        }
      ]
    },
    {
      "cell_type": "code",
      "metadata": {
        "id": "t9yjVYjEKgrk",
        "colab_type": "code",
        "colab": {
          "base_uri": "https://localhost:8080/",
          "height": 124
        },
        "outputId": "29d370f7-c3ac-4930-e39e-c3fd81d83979"
      },
      "source": [
        " ! python \"primeUnitTest.py\""
      ],
      "execution_count": 5,
      "outputs": [
        {
          "output_type": "stream",
          "text": [
            "..\n",
            "----------------------------------------------------------------------\n",
            "Ran 2 tests in 0.000s\n",
            "\n",
            "OK\n"
          ],
          "name": "stdout"
        }
      ]
    }
  ]
}