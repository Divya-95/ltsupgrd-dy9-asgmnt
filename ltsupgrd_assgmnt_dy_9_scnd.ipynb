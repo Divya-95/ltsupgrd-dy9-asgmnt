{
  "nbformat": 4,
  "nbformat_minor": 0,
  "metadata": {
    "colab": {
      "name": "ltsupgrd assgmnt dy 9 scnd",
      "provenance": [],
      "collapsed_sections": [],
      "authorship_tag": "ABX9TyMSFQkAy22ZJwWVRjT7SHB7",
      "include_colab_link": true
    },
    "kernelspec": {
      "name": "python3",
      "display_name": "Python 3"
    }
  },
  "cells": [
    {
      "cell_type": "markdown",
      "metadata": {
        "id": "view-in-github",
        "colab_type": "text"
      },
      "source": [
        "<a href=\"https://colab.research.google.com/github/Divya-95/ltsupgrd-dy9-asgmnt/blob/master/ltsupgrd_assgmnt_dy_9_scnd.ipynb\" target=\"_parent\"><img src=\"https://colab.research.google.com/assets/colab-badge.svg\" alt=\"Open In Colab\"/></a>"
      ]
    },
    {
      "cell_type": "code",
      "metadata": {
        "id": "f5t65I9HLVkY",
        "colab_type": "code",
        "colab": {}
      },
      "source": [
        " lst = list(range(1,1000+1))"
      ],
      "execution_count": 1,
      "outputs": []
    },
    {
      "cell_type": "code",
      "metadata": {
        "id": "VHnYtiRxLZxO",
        "colab_type": "code",
        "colab": {}
      },
      "source": [
        " # Generator to generate armstrong number\n",
        " \n",
        "def armstrong(lst):    \n",
        "    for num in lst:\n",
        "        s = 0\n",
        "        temp = num\n",
        "        while temp > 0:\n",
        "            d = temp % 10\n",
        "            s += d ** 3\n",
        "            temp //= 10\n",
        "        if num == s:\n",
        "            yield num"
      ],
      "execution_count": 2,
      "outputs": []
    },
    {
      "cell_type": "code",
      "metadata": {
        "id": "83f8EahRLsz2",
        "colab_type": "code",
        "colab": {
          "base_uri": "https://localhost:8080/",
          "height": 35
        },
        "outputId": "21d76c14-6cad-4225-c206-196363dd3eeb"
      },
      "source": [
        " list(armstrong(lst))"
      ],
      "execution_count": 3,
      "outputs": [
        {
          "output_type": "execute_result",
          "data": {
            "text/plain": [
              "[1, 153, 370, 371, 407]"
            ]
          },
          "metadata": {
            "tags": []
          },
          "execution_count": 3
        }
      ]
    }
  ]
}